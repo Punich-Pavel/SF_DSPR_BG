{
 "cells": [
  {
   "cell_type": "markdown",
   "id": "557daef5",
   "metadata": {},
   "source": [
    "# Разведывательный анализ лояльности по удержанию клиентов банка"
   ]
  },
  {
   "cell_type": "markdown",
   "id": "faf0fd24",
   "metadata": {},
   "source": [
    "## Цель разведывательного анализа"
   ]
  },
  {
   "cell_type": "markdown",
   "id": "b322b0ed",
   "metadata": {},
   "source": [
    "   * Банк хочет разработать кампанию лояльности по удержанию клиентов, но для этого ему необходимо, чтобы были выяснены основные причины оттока клиентов. Иными словами, нужно установить, чем ушедшие клиенты отличаются от лояльных и как между собой связаны различные признаки, определяющие клиентов."
   ]
  },
  {
   "cell_type": "markdown",
   "id": "de3940ed",
   "metadata": {},
   "source": [
    "## Предобработка данных"
   ]
  },
  {
   "cell_type": "code",
   "execution_count": 68,
   "id": "ccdc83f9",
   "metadata": {
    "scrolled": true
   },
   "outputs": [
    {
     "data": {
      "text/plain": [
       "(10000, 14)"
      ]
     },
     "execution_count": 68,
     "metadata": {},
     "output_type": "execute_result"
    }
   ],
   "source": [
    "import numpy as np   \n",
    "import pandas as pd    \n",
    "import seaborn as sns\n",
    "import matplotlib.pyplot as plt\n",
    "churn_data = pd.read_csv('data/churn.csv') ## загружаем предоставленный dataset\n",
    "copy_charn_data = churn_data.copy() # копируем данные в новую dataframe для анализа\n",
    "copy_charn_data.shape # определяем объем и форму набора данных"
   ]
  },
  {
   "cell_type": "code",
   "execution_count": 69,
   "id": "b025daa5",
   "metadata": {},
   "outputs": [
    {
     "data": {
      "text/html": [
       "<div>\n",
       "<style scoped>\n",
       "    .dataframe tbody tr th:only-of-type {\n",
       "        vertical-align: middle;\n",
       "    }\n",
       "\n",
       "    .dataframe tbody tr th {\n",
       "        vertical-align: top;\n",
       "    }\n",
       "\n",
       "    .dataframe thead th {\n",
       "        text-align: right;\n",
       "    }\n",
       "</style>\n",
       "<table border=\"1\" class=\"dataframe\">\n",
       "  <thead>\n",
       "    <tr style=\"text-align: right;\">\n",
       "      <th></th>\n",
       "      <th>RowNumber</th>\n",
       "      <th>CustomerId</th>\n",
       "      <th>Surname</th>\n",
       "      <th>CreditScore</th>\n",
       "      <th>Geography</th>\n",
       "      <th>Gender</th>\n",
       "      <th>Age</th>\n",
       "      <th>Tenure</th>\n",
       "      <th>Balance</th>\n",
       "      <th>NumOfProducts</th>\n",
       "      <th>HasCrCard</th>\n",
       "      <th>IsActiveMember</th>\n",
       "      <th>EstimatedSalary</th>\n",
       "      <th>Exited</th>\n",
       "    </tr>\n",
       "  </thead>\n",
       "  <tbody>\n",
       "    <tr>\n",
       "      <th>0</th>\n",
       "      <td>1</td>\n",
       "      <td>15634602</td>\n",
       "      <td>Hargrave</td>\n",
       "      <td>619</td>\n",
       "      <td>France</td>\n",
       "      <td>Female</td>\n",
       "      <td>42</td>\n",
       "      <td>2</td>\n",
       "      <td>0.00</td>\n",
       "      <td>1</td>\n",
       "      <td>1</td>\n",
       "      <td>1</td>\n",
       "      <td>101348.88</td>\n",
       "      <td>1</td>\n",
       "    </tr>\n",
       "    <tr>\n",
       "      <th>1</th>\n",
       "      <td>2</td>\n",
       "      <td>15647311</td>\n",
       "      <td>Hill</td>\n",
       "      <td>608</td>\n",
       "      <td>Spain</td>\n",
       "      <td>Female</td>\n",
       "      <td>41</td>\n",
       "      <td>1</td>\n",
       "      <td>83807.86</td>\n",
       "      <td>1</td>\n",
       "      <td>0</td>\n",
       "      <td>1</td>\n",
       "      <td>112542.58</td>\n",
       "      <td>0</td>\n",
       "    </tr>\n",
       "    <tr>\n",
       "      <th>2</th>\n",
       "      <td>3</td>\n",
       "      <td>15619304</td>\n",
       "      <td>Onio</td>\n",
       "      <td>502</td>\n",
       "      <td>France</td>\n",
       "      <td>Female</td>\n",
       "      <td>42</td>\n",
       "      <td>8</td>\n",
       "      <td>159660.80</td>\n",
       "      <td>3</td>\n",
       "      <td>1</td>\n",
       "      <td>0</td>\n",
       "      <td>113931.57</td>\n",
       "      <td>1</td>\n",
       "    </tr>\n",
       "    <tr>\n",
       "      <th>3</th>\n",
       "      <td>4</td>\n",
       "      <td>15701354</td>\n",
       "      <td>Boni</td>\n",
       "      <td>699</td>\n",
       "      <td>France</td>\n",
       "      <td>Female</td>\n",
       "      <td>39</td>\n",
       "      <td>1</td>\n",
       "      <td>0.00</td>\n",
       "      <td>2</td>\n",
       "      <td>0</td>\n",
       "      <td>0</td>\n",
       "      <td>93826.63</td>\n",
       "      <td>0</td>\n",
       "    </tr>\n",
       "    <tr>\n",
       "      <th>4</th>\n",
       "      <td>5</td>\n",
       "      <td>15737888</td>\n",
       "      <td>Mitchell</td>\n",
       "      <td>850</td>\n",
       "      <td>Spain</td>\n",
       "      <td>Female</td>\n",
       "      <td>43</td>\n",
       "      <td>2</td>\n",
       "      <td>125510.82</td>\n",
       "      <td>1</td>\n",
       "      <td>1</td>\n",
       "      <td>1</td>\n",
       "      <td>79084.10</td>\n",
       "      <td>0</td>\n",
       "    </tr>\n",
       "  </tbody>\n",
       "</table>\n",
       "</div>"
      ],
      "text/plain": [
       "   RowNumber  CustomerId   Surname  CreditScore Geography  Gender  Age  \\\n",
       "0          1    15634602  Hargrave          619    France  Female   42   \n",
       "1          2    15647311      Hill          608     Spain  Female   41   \n",
       "2          3    15619304      Onio          502    France  Female   42   \n",
       "3          4    15701354      Boni          699    France  Female   39   \n",
       "4          5    15737888  Mitchell          850     Spain  Female   43   \n",
       "\n",
       "   Tenure    Balance  NumOfProducts  HasCrCard  IsActiveMember  \\\n",
       "0       2       0.00              1          1               1   \n",
       "1       1   83807.86              1          0               1   \n",
       "2       8  159660.80              3          1               0   \n",
       "3       1       0.00              2          0               0   \n",
       "4       2  125510.82              1          1               1   \n",
       "\n",
       "   EstimatedSalary  Exited  \n",
       "0        101348.88       1  \n",
       "1        112542.58       0  \n",
       "2        113931.57       1  \n",
       "3         93826.63       0  \n",
       "4         79084.10       0  "
      ]
     },
     "execution_count": 69,
     "metadata": {},
     "output_type": "execute_result"
    }
   ],
   "source": [
    "copy_charn_data.head()# определяем содержание и объем набора данных"
   ]
  },
  {
   "cell_type": "raw",
   "id": "a09b899e",
   "metadata": {},
   "source": [
    " Столбцы таблицы:\n",
    "\n",
    "    CustomerId — идентификатор клиента\n",
    "    Surname — фамилия клиента\n",
    "    CreditScore — кредитный рейтинг клиента (чем он выше, тем больше клиент брал кредитов и возвращал их)\n",
    "    Geography — страна клиента (банк международный)\n",
    "    Gender — пол клиента\n",
    "    Age — возраст клиента\n",
    "\n",
    "    Tenure — сколько лет клиент пользуется услугами банка\n",
    "    Balance — баланс на счетах клиента в банке\n",
    "    NumOfProducts — количество услуг банка, которые приобрёл клиент\n",
    "    HasCrCard — есть ли у клиента кредитная карта (1 — да, 0 — нет)\n",
    "    IsActiveMember — есть ли у клиента статус активного клиента банка (1 — да, 0 — нет)\n",
    "    EstimatedSalary — предполагаемая заработная плата клиента\n",
    "    Exited — статус лояльности (1 — ушедший клиент, 0 — лояльный клиент)\n",
    "\n"
   ]
  },
  {
   "cell_type": "code",
   "execution_count": 70,
   "id": "2f6c212d",
   "metadata": {},
   "outputs": [
    {
     "data": {
      "text/html": [
       "<div>\n",
       "<style scoped>\n",
       "    .dataframe tbody tr th:only-of-type {\n",
       "        vertical-align: middle;\n",
       "    }\n",
       "\n",
       "    .dataframe tbody tr th {\n",
       "        vertical-align: top;\n",
       "    }\n",
       "\n",
       "    .dataframe thead th {\n",
       "        text-align: right;\n",
       "    }\n",
       "</style>\n",
       "<table border=\"1\" class=\"dataframe\">\n",
       "  <thead>\n",
       "    <tr style=\"text-align: right;\">\n",
       "      <th></th>\n",
       "      <th>count</th>\n",
       "      <th>mean</th>\n",
       "      <th>std</th>\n",
       "      <th>min</th>\n",
       "      <th>25%</th>\n",
       "      <th>50%</th>\n",
       "      <th>75%</th>\n",
       "      <th>max</th>\n",
       "    </tr>\n",
       "  </thead>\n",
       "  <tbody>\n",
       "    <tr>\n",
       "      <th>RowNumber</th>\n",
       "      <td>10000.0</td>\n",
       "      <td>5.000500e+03</td>\n",
       "      <td>2886.895680</td>\n",
       "      <td>1.00</td>\n",
       "      <td>2500.75</td>\n",
       "      <td>5.000500e+03</td>\n",
       "      <td>7.500250e+03</td>\n",
       "      <td>10000.00</td>\n",
       "    </tr>\n",
       "    <tr>\n",
       "      <th>CustomerId</th>\n",
       "      <td>10000.0</td>\n",
       "      <td>1.569094e+07</td>\n",
       "      <td>71936.186123</td>\n",
       "      <td>15565701.00</td>\n",
       "      <td>15628528.25</td>\n",
       "      <td>1.569074e+07</td>\n",
       "      <td>1.575323e+07</td>\n",
       "      <td>15815690.00</td>\n",
       "    </tr>\n",
       "    <tr>\n",
       "      <th>CreditScore</th>\n",
       "      <td>10000.0</td>\n",
       "      <td>6.505288e+02</td>\n",
       "      <td>96.653299</td>\n",
       "      <td>350.00</td>\n",
       "      <td>584.00</td>\n",
       "      <td>6.520000e+02</td>\n",
       "      <td>7.180000e+02</td>\n",
       "      <td>850.00</td>\n",
       "    </tr>\n",
       "    <tr>\n",
       "      <th>Age</th>\n",
       "      <td>10000.0</td>\n",
       "      <td>3.892180e+01</td>\n",
       "      <td>10.487806</td>\n",
       "      <td>18.00</td>\n",
       "      <td>32.00</td>\n",
       "      <td>3.700000e+01</td>\n",
       "      <td>4.400000e+01</td>\n",
       "      <td>92.00</td>\n",
       "    </tr>\n",
       "    <tr>\n",
       "      <th>Tenure</th>\n",
       "      <td>10000.0</td>\n",
       "      <td>5.012800e+00</td>\n",
       "      <td>2.892174</td>\n",
       "      <td>0.00</td>\n",
       "      <td>3.00</td>\n",
       "      <td>5.000000e+00</td>\n",
       "      <td>7.000000e+00</td>\n",
       "      <td>10.00</td>\n",
       "    </tr>\n",
       "    <tr>\n",
       "      <th>Balance</th>\n",
       "      <td>10000.0</td>\n",
       "      <td>7.648589e+04</td>\n",
       "      <td>62397.405202</td>\n",
       "      <td>0.00</td>\n",
       "      <td>0.00</td>\n",
       "      <td>9.719854e+04</td>\n",
       "      <td>1.276442e+05</td>\n",
       "      <td>250898.09</td>\n",
       "    </tr>\n",
       "    <tr>\n",
       "      <th>NumOfProducts</th>\n",
       "      <td>10000.0</td>\n",
       "      <td>1.530200e+00</td>\n",
       "      <td>0.581654</td>\n",
       "      <td>1.00</td>\n",
       "      <td>1.00</td>\n",
       "      <td>1.000000e+00</td>\n",
       "      <td>2.000000e+00</td>\n",
       "      <td>4.00</td>\n",
       "    </tr>\n",
       "    <tr>\n",
       "      <th>HasCrCard</th>\n",
       "      <td>10000.0</td>\n",
       "      <td>7.055000e-01</td>\n",
       "      <td>0.455840</td>\n",
       "      <td>0.00</td>\n",
       "      <td>0.00</td>\n",
       "      <td>1.000000e+00</td>\n",
       "      <td>1.000000e+00</td>\n",
       "      <td>1.00</td>\n",
       "    </tr>\n",
       "    <tr>\n",
       "      <th>IsActiveMember</th>\n",
       "      <td>10000.0</td>\n",
       "      <td>5.151000e-01</td>\n",
       "      <td>0.499797</td>\n",
       "      <td>0.00</td>\n",
       "      <td>0.00</td>\n",
       "      <td>1.000000e+00</td>\n",
       "      <td>1.000000e+00</td>\n",
       "      <td>1.00</td>\n",
       "    </tr>\n",
       "    <tr>\n",
       "      <th>EstimatedSalary</th>\n",
       "      <td>10000.0</td>\n",
       "      <td>1.000902e+05</td>\n",
       "      <td>57510.492818</td>\n",
       "      <td>11.58</td>\n",
       "      <td>51002.11</td>\n",
       "      <td>1.001939e+05</td>\n",
       "      <td>1.493882e+05</td>\n",
       "      <td>199992.48</td>\n",
       "    </tr>\n",
       "    <tr>\n",
       "      <th>Exited</th>\n",
       "      <td>10000.0</td>\n",
       "      <td>2.037000e-01</td>\n",
       "      <td>0.402769</td>\n",
       "      <td>0.00</td>\n",
       "      <td>0.00</td>\n",
       "      <td>0.000000e+00</td>\n",
       "      <td>0.000000e+00</td>\n",
       "      <td>1.00</td>\n",
       "    </tr>\n",
       "  </tbody>\n",
       "</table>\n",
       "</div>"
      ],
      "text/plain": [
       "                   count          mean           std          min  \\\n",
       "RowNumber        10000.0  5.000500e+03   2886.895680         1.00   \n",
       "CustomerId       10000.0  1.569094e+07  71936.186123  15565701.00   \n",
       "CreditScore      10000.0  6.505288e+02     96.653299       350.00   \n",
       "Age              10000.0  3.892180e+01     10.487806        18.00   \n",
       "Tenure           10000.0  5.012800e+00      2.892174         0.00   \n",
       "Balance          10000.0  7.648589e+04  62397.405202         0.00   \n",
       "NumOfProducts    10000.0  1.530200e+00      0.581654         1.00   \n",
       "HasCrCard        10000.0  7.055000e-01      0.455840         0.00   \n",
       "IsActiveMember   10000.0  5.151000e-01      0.499797         0.00   \n",
       "EstimatedSalary  10000.0  1.000902e+05  57510.492818        11.58   \n",
       "Exited           10000.0  2.037000e-01      0.402769         0.00   \n",
       "\n",
       "                         25%           50%           75%          max  \n",
       "RowNumber            2500.75  5.000500e+03  7.500250e+03     10000.00  \n",
       "CustomerId       15628528.25  1.569074e+07  1.575323e+07  15815690.00  \n",
       "CreditScore           584.00  6.520000e+02  7.180000e+02       850.00  \n",
       "Age                    32.00  3.700000e+01  4.400000e+01        92.00  \n",
       "Tenure                  3.00  5.000000e+00  7.000000e+00        10.00  \n",
       "Balance                 0.00  9.719854e+04  1.276442e+05    250898.09  \n",
       "NumOfProducts           1.00  1.000000e+00  2.000000e+00         4.00  \n",
       "HasCrCard               0.00  1.000000e+00  1.000000e+00         1.00  \n",
       "IsActiveMember          0.00  1.000000e+00  1.000000e+00         1.00  \n",
       "EstimatedSalary     51002.11  1.001939e+05  1.493882e+05    199992.48  \n",
       "Exited                  0.00  0.000000e+00  0.000000e+00         1.00  "
      ]
     },
     "execution_count": 70,
     "metadata": {},
     "output_type": "execute_result"
    }
   ],
   "source": [
    "copy_charn_data.describe().T"
   ]
  },
  {
   "cell_type": "markdown",
   "id": "88ac8edb",
   "metadata": {},
   "source": [
    "### Выводы :"
   ]
  },
  {
   "cell_type": "raw",
   "id": "e624cded",
   "metadata": {},
   "source": [
    "    * Набор данных имеет 10000 строк и 14 столбцов, и данные не являются нулевым набором данных;\n",
    "    * Balance и EstimatedSalary кажутся искаженными вправо, а максимальное значение - крайним правым.\n",
    "    * Существует 2932 уникальных фамилии, максимальная фамилия Смита - 32 случая. Фамилия в моделировании не важна, так что удалим её;\n",
    "    * Набор данных состоит из клиентов из 3 стран, из которых Франция занимает 50% от общего числа клиентов, за ней следуют Германия и Испания, примерно по 25% населения каждая;\n",
    "    * У банка больше клиентов-мужчин по сравнению с клиентами-женщинами."
   ]
  },
  {
   "cell_type": "code",
   "execution_count": 71,
   "id": "f0f63284",
   "metadata": {},
   "outputs": [],
   "source": [
    "copy_charn_data.drop(['RowNumber', 'CustomerId', 'Surname'], axis=1, inplace=True) # удаляем столбцы 'RowNumber', 'CustomerId', 'Surname'\n",
    "copy_charn_data['IsActiveMember'] = copy_charn_data['IsActiveMember'].astype('category') # приводим 'IsActiveMember' ктипу данных category\n",
    "copy_charn_data['HasCrCard'] = copy_charn_data['HasCrCard'].astype('category') # приводим 'HasCrCard' ктипу данных category\n",
    "copy_charn_data['Exited'] = copy_charn_data['Exited'].astype('category') # приводим 'Exited' ктипу данных category\n",
    "cat_columns=copy_charn_data.select_dtypes(include=[\"object\", \"category\"]).columns.tolist()\n",
    "num_column=copy_charn_data.select_dtypes(include=np.number).columns.tolist()"
   ]
  },
  {
   "cell_type": "code",
   "execution_count": 72,
   "id": "26ad9e3f",
   "metadata": {
    "scrolled": true
   },
   "outputs": [
    {
     "data": {
      "text/html": [
       "<div>\n",
       "<style scoped>\n",
       "    .dataframe tbody tr th:only-of-type {\n",
       "        vertical-align: middle;\n",
       "    }\n",
       "\n",
       "    .dataframe tbody tr th {\n",
       "        vertical-align: top;\n",
       "    }\n",
       "\n",
       "    .dataframe thead th {\n",
       "        text-align: right;\n",
       "    }\n",
       "</style>\n",
       "<table border=\"1\" class=\"dataframe\">\n",
       "  <thead>\n",
       "    <tr style=\"text-align: right;\">\n",
       "      <th></th>\n",
       "      <th>CreditScore</th>\n",
       "      <th>Geography</th>\n",
       "      <th>Gender</th>\n",
       "      <th>Age</th>\n",
       "      <th>Tenure</th>\n",
       "      <th>Balance</th>\n",
       "      <th>NumOfProducts</th>\n",
       "      <th>HasCrCard</th>\n",
       "      <th>IsActiveMember</th>\n",
       "      <th>EstimatedSalary</th>\n",
       "      <th>Exited</th>\n",
       "    </tr>\n",
       "  </thead>\n",
       "  <tbody>\n",
       "    <tr>\n",
       "      <th>0</th>\n",
       "      <td>619</td>\n",
       "      <td>France</td>\n",
       "      <td>Female</td>\n",
       "      <td>42</td>\n",
       "      <td>2</td>\n",
       "      <td>0.00</td>\n",
       "      <td>1</td>\n",
       "      <td>1</td>\n",
       "      <td>1</td>\n",
       "      <td>101348.88</td>\n",
       "      <td>1</td>\n",
       "    </tr>\n",
       "    <tr>\n",
       "      <th>1</th>\n",
       "      <td>608</td>\n",
       "      <td>Spain</td>\n",
       "      <td>Female</td>\n",
       "      <td>41</td>\n",
       "      <td>1</td>\n",
       "      <td>83807.86</td>\n",
       "      <td>1</td>\n",
       "      <td>0</td>\n",
       "      <td>1</td>\n",
       "      <td>112542.58</td>\n",
       "      <td>0</td>\n",
       "    </tr>\n",
       "    <tr>\n",
       "      <th>2</th>\n",
       "      <td>502</td>\n",
       "      <td>France</td>\n",
       "      <td>Female</td>\n",
       "      <td>42</td>\n",
       "      <td>8</td>\n",
       "      <td>159660.80</td>\n",
       "      <td>3</td>\n",
       "      <td>1</td>\n",
       "      <td>0</td>\n",
       "      <td>113931.57</td>\n",
       "      <td>1</td>\n",
       "    </tr>\n",
       "    <tr>\n",
       "      <th>3</th>\n",
       "      <td>699</td>\n",
       "      <td>France</td>\n",
       "      <td>Female</td>\n",
       "      <td>39</td>\n",
       "      <td>1</td>\n",
       "      <td>0.00</td>\n",
       "      <td>2</td>\n",
       "      <td>0</td>\n",
       "      <td>0</td>\n",
       "      <td>93826.63</td>\n",
       "      <td>0</td>\n",
       "    </tr>\n",
       "    <tr>\n",
       "      <th>4</th>\n",
       "      <td>850</td>\n",
       "      <td>Spain</td>\n",
       "      <td>Female</td>\n",
       "      <td>43</td>\n",
       "      <td>2</td>\n",
       "      <td>125510.82</td>\n",
       "      <td>1</td>\n",
       "      <td>1</td>\n",
       "      <td>1</td>\n",
       "      <td>79084.10</td>\n",
       "      <td>0</td>\n",
       "    </tr>\n",
       "  </tbody>\n",
       "</table>\n",
       "</div>"
      ],
      "text/plain": [
       "   CreditScore Geography  Gender  Age  Tenure    Balance  NumOfProducts  \\\n",
       "0          619    France  Female   42       2       0.00              1   \n",
       "1          608     Spain  Female   41       1   83807.86              1   \n",
       "2          502    France  Female   42       8  159660.80              3   \n",
       "3          699    France  Female   39       1       0.00              2   \n",
       "4          850     Spain  Female   43       2  125510.82              1   \n",
       "\n",
       "  HasCrCard IsActiveMember  EstimatedSalary Exited  \n",
       "0         1              1        101348.88      1  \n",
       "1         0              1        112542.58      0  \n",
       "2         1              0        113931.57      1  \n",
       "3         0              0         93826.63      0  \n",
       "4         1              1         79084.10      0  "
      ]
     },
     "execution_count": 72,
     "metadata": {},
     "output_type": "execute_result"
    }
   ],
   "source": [
    "copy_charn_data.head()# проверяем преобразование данных"
   ]
  },
  {
   "cell_type": "code",
   "execution_count": 73,
   "id": "cbac2102",
   "metadata": {},
   "outputs": [
    {
     "name": "stdout",
     "output_type": "stream",
     "text": [
      "<class 'pandas.core.frame.DataFrame'>\n",
      "RangeIndex: 10000 entries, 0 to 9999\n",
      "Data columns (total 11 columns):\n",
      " #   Column           Non-Null Count  Dtype   \n",
      "---  ------           --------------  -----   \n",
      " 0   CreditScore      10000 non-null  int64   \n",
      " 1   Geography        10000 non-null  object  \n",
      " 2   Gender           10000 non-null  object  \n",
      " 3   Age              10000 non-null  int64   \n",
      " 4   Tenure           10000 non-null  int64   \n",
      " 5   Balance          10000 non-null  float64 \n",
      " 6   NumOfProducts    10000 non-null  int64   \n",
      " 7   HasCrCard        10000 non-null  category\n",
      " 8   IsActiveMember   10000 non-null  category\n",
      " 9   EstimatedSalary  10000 non-null  float64 \n",
      " 10  Exited           10000 non-null  category\n",
      "dtypes: category(3), float64(2), int64(4), object(2)\n",
      "memory usage: 654.8+ KB\n"
     ]
    }
   ],
   "source": [
    "copy_charn_data.info()"
   ]
  },
  {
   "cell_type": "markdown",
   "id": "2edcc4fc",
   "metadata": {},
   "source": [
    "## 1. Каково соотношение ушедших и лояльных клиентов? Покажите это на графике и дайте комментарий по соотношению."
   ]
  },
  {
   "cell_type": "code",
   "execution_count": 74,
   "id": "1b9c57ee",
   "metadata": {},
   "outputs": [
    {
     "data": {
      "text/plain": [
       "[<matplotlib.axis.XTick at 0x7fcdb4911160>,\n",
       " <matplotlib.axis.XTick at 0x7fcdb4911100>]"
      ]
     },
     "execution_count": 74,
     "metadata": {},
     "output_type": "execute_result"
    },
    {
     "data": {
      "image/png": "[encoded data removed]",
      "text/plain": [
       "<Figure size 288x288 with 1 Axes>"
      ]
     },
     "metadata": {
      "needs_background": "light"
     },
     "output_type": "display_data"
    }
   ],
   "source": [
    "fig = plt.figure(figsize=(4, 4))\n",
    "axes = fig.add_axes([0, 0, 1, 1])\n",
    "axes.hist(\n",
    "    x=copy_charn_data['Exited'],\n",
    "    bins=3\n",
    "    );\n",
    "axes.set_title('Гистограма лояльных и ушедших клиентов банка', fontsize=16)\n",
    "axes.set_xlabel('Показатель лояльности')\n",
    "axes.set_ylabel('Число клиентов')\n",
    "axes.set_xticks(range(0, 2))    "
   ]
  },
  {
   "cell_type": "markdown",
   "id": "5324f9e4",
   "metadata": {},
   "source": [
    "### Вывод:  "
   ]
  },
  {
   "cell_type": "raw",
   "id": "c3e34526",
   "metadata": {},
   "source": [
    "* Количество лояльных клиентов примерно в 4 раза больше количества ушедших клиентов"
   ]
  },
  {
   "cell_type": "markdown",
   "id": "9f788da4",
   "metadata": {},
   "source": [
    "## 2. Постройте график, показывающий распределение баланса пользователей, у которых на счету больше 2 500 долларов. Опишите распределение и сделайте выводы.\n",
    " "
   ]
  },
  {
   "cell_type": "code",
   "execution_count": 75,
   "id": "231c9e2c",
   "metadata": {
    "scrolled": true
   },
   "outputs": [
    {
     "data": {
      "image/png": "[encoded data removed]",
      "text/plain": [
       "<Figure size 720x288 with 1 Axes>"
      ]
     },
     "metadata": {
      "needs_background": "light"
     },
     "output_type": "display_data"
    }
   ],
   "source": [
    "fig = plt.figure(figsize=(10, 4))\n",
    "histplot = sns.histplot(\n",
    "    x = copy_charn_data['Balance'],\n",
    "    bins = 30\n",
    ")\n",
    "histplot.set_title('Баланс лицевых счетов клиентов банка', fontsize=16)\n",
    "histplot.set_xlabel('Баланс лицевых счетов;$')\n",
    "histplot.set_ylabel('Число клиентов');"
   ]
  },
  {
   "cell_type": "markdown",
   "id": "80f72292",
   "metadata": {},
   "source": [
    "### Вывод:  "
   ]
  },
  {
   "cell_type": "raw",
   "id": "9421ca5f",
   "metadata": {},
   "source": [
    "* баланс лицевых счетов более 35000 клиентов равен 0;\n",
    "* распределение баланса лицевых счетов имеет нормальный вид;\n",
    "* баланс большинства клиентов банка от 50000 до 1800000$; \n",
    "* необходимы дополнительные иследования."
   ]
  },
  {
   "cell_type": "markdown",
   "id": "3983e8c2",
   "metadata": {},
   "source": [
    "## 3. Посмотрите на распределение баланса клиента в разрезе признака оттока. Как различаются суммы на накопительном счёте ушедших и лояльных клиентов? Подумайте и напишите, с чем это может быть связано, что может не устраивать ушедших клиентов в банке. "
   ]
  },
  {
   "cell_type": "code",
   "execution_count": 76,
   "id": "1971af12",
   "metadata": {},
   "outputs": [
    {
     "data": {
      "image/png": "[encoded data removed]",
      "text/plain": [
       "<Figure size 1080x720 with 2 Axes>"
      ]
     },
     "metadata": {
      "needs_background": "light"
     },
     "output_type": "display_data"
    }
   ],
   "source": [
    "fig, axes = plt.subplots(nrows=2, ncols=1, figsize=(15, 10))\n",
    "sns.histplot(\n",
    "    data=copy_charn_data,\n",
    "    x='Balance',\n",
    "    bins=50,\n",
    "    kde=True,\n",
    "    ax=axes[0]\n",
    ");\n",
    "axes[0].set_title('Баланс лицевых счетов клиентов банка', fontsize=16)\n",
    "axes[0].set_xlabel('Баланс лицевых счетов;$')\n",
    "axes[0].set_ylabel('Число клиентов')\n",
    "sns.boxplot(\n",
    "    data=copy_charn_data,\n",
    "    x='Balance',\n",
    "    y='Exited',\n",
    "    orient='h',\n",
    ");\n",
    "axes[1].set_xlabel('Баланс лицевых счетов; $');\n",
    "axes[1].set_ylabel('Лояльность клиентов');\n",
    "axes[1].grid()"
   ]
  },
  {
   "cell_type": "markdown",
   "id": "27ea23d1",
   "metadata": {},
   "source": [
    "### Вывод:  "
   ]
  },
  {
   "cell_type": "raw",
   "id": "5db37914",
   "metadata": {},
   "source": [
    "* Не все клиенты с нулевым балансом являются ушедшими из банка;\n",
    "* Баланс лояльных клиентов банка выше баланса ушедших клиентов;\n",
    "* Клиентов с балансом более 100000$ лояльных больше, чем ушедших;\n",
    "* Большая часть ушедших клиентов имеет на своих счетах небольшие суммы денег. Поэтому можно сделать вывод, что клиентов не устраивает доход инвестирования небольших сумм"
   ]
  },
  {
   "cell_type": "markdown",
   "id": "3824f205",
   "metadata": {},
   "source": [
    "## 4. Посмотрите на распределение возраста в разрезе признака оттока. В какой группе больше потенциальных выбросов? На какую возрастную категорию клиентов стоит обратить внимание банку? "
   ]
  },
  {
   "cell_type": "code",
   "execution_count": 77,
   "id": "60a1a4ff",
   "metadata": {},
   "outputs": [
    {
     "data": {
      "text/plain": [
       "[<matplotlib.axis.YTick at 0x7fcdb4698f40>,\n",
       " <matplotlib.axis.YTick at 0x7fcdb46987c0>]"
      ]
     },
     "execution_count": 77,
     "metadata": {},
     "output_type": "execute_result"
    },
    {
     "data": {
      "image/png": "[encoded data removed]",
      "text/plain": [
       "<Figure size 720x576 with 2 Axes>"
      ]
     },
     "metadata": {
      "needs_background": "light"
     },
     "output_type": "display_data"
    }
   ],
   "source": [
    "fig, axes = plt.subplots(nrows=2, ncols=1, figsize=(10, 8))\n",
    "sns.histplot(\n",
    "    data=copy_charn_data,\n",
    "    x='Age',\n",
    "    bins=100,\n",
    "    kde=True,\n",
    "    ax=axes[0]\n",
    ");\n",
    "axes[0].set_title('Гистограмма лояльности клиентов банка по возрасту', fontsize=16)\n",
    "axes[0].set_xlabel('Возраст клиента; лет')\n",
    "axes[0].set_ylabel('Число клиентов')\n",
    "sns.histplot(\n",
    "    data=copy_charn_data,\n",
    "    x='Age',\n",
    "    y='Exited',\n",
    "    bins=100,\n",
    "    color='red',\n",
    "    ax=axes[1]\n",
    ");\n",
    "axes[1].set_xlabel('Возраст клиента; лет')\n",
    "axes[1].set_ylabel('Лояльность клиента: 0- лояльный, 1-ушедший')\n",
    "axes[1].set_yticks(range(0, 2))"
   ]
  },
  {
   "cell_type": "markdown",
   "id": "ab2e8744",
   "metadata": {},
   "source": [
    "### Вывод:  "
   ]
  },
  {
   "cell_type": "raw",
   "id": "4c7f63e2",
   "metadata": {},
   "source": [
    "* Средний возраст лояльных клиентов банка 35 лет;\n",
    "* Потенциальных выбросов больше в группе клиентов лояльных банку;\n",
    "* Средний возраст лояльных банку клиентов меньше ушедших."
   ]
  },
  {
   "cell_type": "markdown",
   "id": "e90f1c23",
   "metadata": {},
   "source": [
    "## 5. Постройте график, который показывает взаимосвязь кредитного рейтинга клиента и его предполагаемой зарплаты. Добавьте расцветку по признаку оттока клиентов. Какова взаимосвязь между признаками? Если не видите явной взаимосвязи, укажите это. "
   ]
  },
  {
   "cell_type": "code",
   "execution_count": 78,
   "id": "069d9651",
   "metadata": {},
   "outputs": [
    {
     "data": {
      "text/html": [
       "<div>\n",
       "<style scoped>\n",
       "    .dataframe tbody tr th:only-of-type {\n",
       "        vertical-align: middle;\n",
       "    }\n",
       "\n",
       "    .dataframe tbody tr th {\n",
       "        vertical-align: top;\n",
       "    }\n",
       "\n",
       "    .dataframe thead th {\n",
       "        text-align: right;\n",
       "    }\n",
       "</style>\n",
       "<table border=\"1\" class=\"dataframe\">\n",
       "  <thead>\n",
       "    <tr style=\"text-align: right;\">\n",
       "      <th>CreditScore</th>\n",
       "      <th>350</th>\n",
       "      <th>351</th>\n",
       "      <th>358</th>\n",
       "      <th>359</th>\n",
       "      <th>363</th>\n",
       "      <th>365</th>\n",
       "      <th>367</th>\n",
       "      <th>373</th>\n",
       "      <th>376</th>\n",
       "      <th>382</th>\n",
       "      <th>...</th>\n",
       "      <th>841</th>\n",
       "      <th>842</th>\n",
       "      <th>843</th>\n",
       "      <th>844</th>\n",
       "      <th>845</th>\n",
       "      <th>846</th>\n",
       "      <th>847</th>\n",
       "      <th>848</th>\n",
       "      <th>849</th>\n",
       "      <th>850</th>\n",
       "    </tr>\n",
       "    <tr>\n",
       "      <th>Exited</th>\n",
       "      <th></th>\n",
       "      <th></th>\n",
       "      <th></th>\n",
       "      <th></th>\n",
       "      <th></th>\n",
       "      <th></th>\n",
       "      <th></th>\n",
       "      <th></th>\n",
       "      <th></th>\n",
       "      <th></th>\n",
       "      <th></th>\n",
       "      <th></th>\n",
       "      <th></th>\n",
       "      <th></th>\n",
       "      <th></th>\n",
       "      <th></th>\n",
       "      <th></th>\n",
       "      <th></th>\n",
       "      <th></th>\n",
       "      <th></th>\n",
       "      <th></th>\n",
       "    </tr>\n",
       "  </thead>\n",
       "  <tbody>\n",
       "    <tr>\n",
       "      <th>0</th>\n",
       "      <td>NaN</td>\n",
       "      <td>NaN</td>\n",
       "      <td>NaN</td>\n",
       "      <td>NaN</td>\n",
       "      <td>NaN</td>\n",
       "      <td>NaN</td>\n",
       "      <td>NaN</td>\n",
       "      <td>NaN</td>\n",
       "      <td>NaN</td>\n",
       "      <td>NaN</td>\n",
       "      <td>...</td>\n",
       "      <td>138255.214</td>\n",
       "      <td>87630.56</td>\n",
       "      <td>39149.135</td>\n",
       "      <td>133982.515000</td>\n",
       "      <td>136830.83</td>\n",
       "      <td>108445.013333</td>\n",
       "      <td>107291.3075</td>\n",
       "      <td>130616.958</td>\n",
       "      <td>123653.063333</td>\n",
       "      <td>96853.099421</td>\n",
       "    </tr>\n",
       "    <tr>\n",
       "      <th>1</th>\n",
       "      <td>145503.35</td>\n",
       "      <td>169621.69</td>\n",
       "      <td>141959.11</td>\n",
       "      <td>146955.71</td>\n",
       "      <td>100615.14</td>\n",
       "      <td>81537.85</td>\n",
       "      <td>168816.73</td>\n",
       "      <td>77786.37</td>\n",
       "      <td>138340.285</td>\n",
       "      <td>179540.73</td>\n",
       "      <td>...</td>\n",
       "      <td>134378.040</td>\n",
       "      <td>87936.77</td>\n",
       "      <td>NaN</td>\n",
       "      <td>110103.183333</td>\n",
       "      <td>31726.76</td>\n",
       "      <td>35917.055000</td>\n",
       "      <td>80104.6150</td>\n",
       "      <td>NaN</td>\n",
       "      <td>170130.080000</td>\n",
       "      <td>91793.338372</td>\n",
       "    </tr>\n",
       "  </tbody>\n",
       "</table>\n",
       "<p>2 rows × 460 columns</p>\n",
       "</div>"
      ],
      "text/plain": [
       "CreditScore        350        351        358        359        363       365  \\\n",
       "Exited                                                                         \n",
       "0                  NaN        NaN        NaN        NaN        NaN       NaN   \n",
       "1            145503.35  169621.69  141959.11  146955.71  100615.14  81537.85   \n",
       "\n",
       "CreditScore        367       373         376        382  ...         841  \\\n",
       "Exited                                                   ...               \n",
       "0                  NaN       NaN         NaN        NaN  ...  138255.214   \n",
       "1            168816.73  77786.37  138340.285  179540.73  ...  134378.040   \n",
       "\n",
       "CreditScore       842        843            844        845            846  \\\n",
       "Exited                                                                      \n",
       "0            87630.56  39149.135  133982.515000  136830.83  108445.013333   \n",
       "1            87936.77        NaN  110103.183333   31726.76   35917.055000   \n",
       "\n",
       "CreditScore          847         848            849           850  \n",
       "Exited                                                             \n",
       "0            107291.3075  130616.958  123653.063333  96853.099421  \n",
       "1             80104.6150         NaN  170130.080000  91793.338372  \n",
       "\n",
       "[2 rows x 460 columns]"
      ]
     },
     "metadata": {},
     "output_type": "display_data"
    }
   ],
   "source": [
    "# Создаем вспомогательную таблицу, колонки которой- CreditScore, строки- Exited, а значения ячеек- EstimatedSalary\n",
    "pivot = copy_charn_data.pivot_table(\n",
    "    values='EstimatedSalary',\n",
    "    columns='CreditScore',\n",
    "    index='Exited',\n",
    ")\n",
    "pivot.columns = pivot.columns.astype('string')\n",
    "display(pivot)"
   ]
  },
  {
   "cell_type": "code",
   "execution_count": 79,
   "id": "ce5bbcb3",
   "metadata": {},
   "outputs": [
    {
     "data": {
      "image/png": "[encoded data removed]",
      "text/plain": [
       "<Figure size 1224x288 with 2 Axes>"
      ]
     },
     "metadata": {
      "needs_background": "light"
     },
     "output_type": "display_data"
    }
   ],
   "source": [
    "fig = plt.figure(figsize=(17, 4))\n",
    "heatmap = sns.heatmap(data=pivot, cmap='YlGnBu')\n",
    "heatmap.set_title('Тепловая карта предполагаемой зарплаты', fontsize=16)\n",
    "heatmap.set_xlabel('Кредитный рейтинг; баллы')\n",
    "heatmap.set_ylabel('Лояльность клиента: 0- лояльный, 1-ушедший');"
   ]
  },
  {
   "cell_type": "markdown",
   "id": "dc06924a",
   "metadata": {},
   "source": [
    "### Вывод:  "
   ]
  },
  {
   "cell_type": "raw",
   "id": "1ef8a7a5",
   "metadata": {},
   "source": [
    "* Предполагаемая зарплата ушедших клиентов банка с кредитным рейтингом менее 400 достаточно высока;\n",
    "* Предполагаемая причина - низкая информированность данной категории о продложениях банка."
   ]
  },
  {
   "cell_type": "markdown",
   "id": "076c9a9a",
   "metadata": {},
   "source": [
    "## 6. Кто чаще уходит, мужчины или женщины? Постройте график, который иллюстрирует это. "
   ]
  },
  {
   "cell_type": "code",
   "execution_count": 80,
   "id": "2ee9cd1c",
   "metadata": {},
   "outputs": [
    {
     "data": {
      "image/png": "[encoded data removed]",
      "text/plain": [
       "<Figure size 432x288 with 1 Axes>"
      ]
     },
     "metadata": {
      "needs_background": "light"
     },
     "output_type": "display_data"
    }
   ],
   "source": [
    "histplot=sns.histplot(\n",
    "    data=copy_charn_data,\n",
    "    x='Exited',\n",
    "    hue='Gender',\n",
    "    bins=3    \n",
    ")\n",
    "histplot.set_title('Зависимость лояльности клиента от пола', fontsize=16)\n",
    "histplot.set_xlabel('Лояльность клиента; 0-лоялен, 1- ушедший')\n",
    "histplot.set_ylabel('Число клиентов')\n",
    "histplot.set_xticks(range(0, 2));"
   ]
  },
  {
   "cell_type": "markdown",
   "id": "7b22c6b7",
   "metadata": {},
   "source": [
    "## 7. Как отток клиентов зависит от числа приобретённых у банка услуг? Для ответа на этот вопрос постройте многоуровневую столбчатую диаграмму. "
   ]
  },
  {
   "cell_type": "code",
   "execution_count": 84,
   "id": "759492ad",
   "metadata": {},
   "outputs": [
    {
     "data": {
      "image/png": "[encoded data removed]",
      "text/plain": [
       "<Figure size 432x288 with 1 Axes>"
      ]
     },
     "metadata": {
      "needs_background": "light"
     },
     "output_type": "display_data"
    }
   ],
   "source": [
    "barplot = sns.barplot(\n",
    "    data = copy_charn_data,\n",
    "    x = 'NumOfProducts',\n",
    "    y = 'Balance',\n",
    "    hue= 'Exited' \n",
    ")\n",
    "barplot.set_title('Зависимость баланса лицевых счетов от услуг приобретенных у банка')\n",
    "barplot.set_xlabel('Номер услуги')\n",
    "barplot.set_ylabel('Баланс клиента; $');"
   ]
  },
  {
   "cell_type": "markdown",
   "id": "bb4f60ab",
   "metadata": {},
   "source": [
    "### Вывод:"
   ]
  },
  {
   "cell_type": "raw",
   "id": "7043a025",
   "metadata": {},
   "source": [
    "* Лояльные клиенты с большим балансом чаще пользуются услугой банка №1;\n",
    "* Услуги №2 и 3 более востребованны ушедшими клиентами;\n",
    "* Лояльные клиенты банка с нулевым балансом не пользуются услугой №4;\n",
    "* Данная зависимость не дает полного анализа."
   ]
  },
  {
   "cell_type": "markdown",
   "id": "74453ea9",
   "metadata": {},
   "source": [
    "## 8. Как влияет наличие статуса активного клиента на отток клиентов? Постройте диаграмму, иллюстрирующую это. Что бы вы предложили банку, чтобы уменьшить отток клиентов среди неактивных? "
   ]
  },
  {
   "cell_type": "code",
   "execution_count": 114,
   "id": "d8ce92e0",
   "metadata": {},
   "outputs": [
    {
     "data": {
      "image/png": "[encoded data removed]",
      "text/plain": [
       "<Figure size 360x720 with 2 Axes>"
      ]
     },
     "metadata": {
      "needs_background": "light"
     },
     "output_type": "display_data"
    }
   ],
   "source": [
    "fig, axes = plt.subplots(nrows=2, ncols=1, figsize=(5, 10))\n",
    "sns.histplot(\n",
    "    data = copy_charn_data,\n",
    "    x = 'Exited',\n",
    "    hue = 'IsActiveMember',\n",
    "    bins = 3,\n",
    "    ax = axes[0]\n",
    ")\n",
    "axes[0].set_title('Зависимость лояльности клиента от статуса активности', fontsize=16)\n",
    "axes[0].set_xlabel('Лояльность клиента; 0-лоялен, 1- ушедший')\n",
    "axes[0].set_ylabel('Число клиентов')\n",
    "axes[0].set_xticks(range(0, 2)\n",
    ");\n",
    "sns.barplot(\n",
    "    data = copy_charn_data,\n",
    "    x = 'IsActiveMember',\n",
    "    y = 'Balance',\n",
    "    hue = 'NumOfProducts',\n",
    "    ax = axes[1]\n",
    ")\n",
    "axes[1].set_title('Зависимость баланса лицевых счетов от статуса активности')\n",
    "axes[1].set_xlabel('Статус активности; 0- не активен, 1- активен')\n",
    "axes[1].set_ylabel('Баланс клиента; $');"
   ]
  },
  {
   "cell_type": "code",
   "execution_count": 123,
   "id": "3cc43fb6",
   "metadata": {},
   "outputs": [
    {
     "data": {
      "image/png": "[encoded data removed]",
      "text/plain": [
       "<Figure size 360x720 with 2 Axes>"
      ]
     },
     "metadata": {
      "needs_background": "light"
     },
     "output_type": "display_data"
    }
   ],
   "source": [
    "fig, axes = plt.subplots(nrows=2, ncols=1, figsize=(5, 10))\n",
    "sns.histplot(\n",
    "    data = copy_charn_data,\n",
    "    x = 'Exited',\n",
    "    hue = 'IsActiveMember',\n",
    "    bins = 3,\n",
    "    ax = axes[0]\n",
    ")\n",
    "axes[0].set_title('Зависимость лояльности клиента от статуса активности', fontsize=16)\n",
    "axes[0].set_xlabel('Лояльность клиента; 0-лоялен, 1- ушедший')\n",
    "axes[0].set_ylabel('Число клиентов')\n",
    "axes[0].set_xticks(range(0, 2)\n",
    ");\n",
    "sns.histplot(\n",
    "    data = copy_charn_data,\n",
    "    x = 'NumOfProducts',\n",
    "    hue = 'IsActiveMember',\n",
    "    bins = 7,\n",
    "    ax = axes[1]\n",
    ")\n",
    "axes[1].set_title('Зависимость числа клиентов от номера продукта банка')\n",
    "axes[1].set_xlabel('Номер продукта')\n",
    "axes[1].set_ylabel('Число клиентов')\n",
    "axes[1].set_xticks(range(0, 6));"
   ]
  },
  {
   "cell_type": "markdown",
   "id": "98ce48f8",
   "metadata": {},
   "source": [
    "### Вывод:"
   ]
  },
  {
   "cell_type": "raw",
   "id": "c24289ab",
   "metadata": {},
   "source": [
    "Рекомендации банку- информировать неактивных клиентов об услугах №3 и 4 и предлагать их"
   ]
  },
  {
   "cell_type": "markdown",
   "id": "8c10f6fa",
   "metadata": {},
   "source": [
    "## 9. В какой стране доля ушедших клиентов больше? Постройте тепловую картограмму, которая покажет это соотношение на карте мира. Предположите, с чем это может быть связано. "
   ]
  },
  {
   "cell_type": "code",
   "execution_count": null,
   "id": "f2e69b7d",
   "metadata": {},
   "outputs": [],
   "source": []
  },
  {
   "cell_type": "markdown",
   "id": "d6aee3ed",
   "metadata": {},
   "source": [
    "### Вывод:"
   ]
  },
  {
   "cell_type": "code",
   "execution_count": null,
   "id": "429f4c14",
   "metadata": {},
   "outputs": [],
   "source": []
  },
  {
   "cell_type": "markdown",
   "id": "0833f4fd",
   "metadata": {},
   "source": [
    "## 10. Переведите числовой признак CreditScore в категориальный. Для этого воспользуйтесь функцией get_credit_score_cat(), которая приведена ниже. Примените её к столбцу CreditScore и создайте новый признак CreditScoreCat — категории кредитного рейтинга. "
   ]
  },
  {
   "cell_type": "code",
   "execution_count": null,
   "id": "67252a2c",
   "metadata": {},
   "outputs": [],
   "source": []
  },
  {
   "cell_type": "markdown",
   "id": "bb81bde6",
   "metadata": {},
   "source": [
    "### Вывод:"
   ]
  },
  {
   "cell_type": "code",
   "execution_count": null,
   "id": "a08754be",
   "metadata": {},
   "outputs": [],
   "source": []
  }
 ],
 "metadata": {
  "kernelspec": {
   "display_name": "Python 3 (ipykernel)",
   "language": "python",
   "name": "python3"
  },
  "language_info": {
   "codemirror_mode": {
    "name": "ipython",
    "version": 3
   },
   "file_extension": ".py",
   "mimetype": "text/x-python",
   "name": "python",
   "nbconvert_exporter": "python",
   "pygments_lexer": "ipython3",
   "version": "3.8.10"
  }
 },
 "nbformat": 4,
 "nbformat_minor": 5
}
